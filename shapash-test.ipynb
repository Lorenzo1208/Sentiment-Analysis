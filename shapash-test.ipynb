{
 "cells": [
  {
   "cell_type": "code",
   "execution_count": 21,
   "metadata": {},
   "outputs": [
    {
     "name": "stdout",
     "output_type": "stream",
     "text": [
      "Accuracy: 0.96\n",
      "              precision    recall  f1-score   support\n",
      "\n",
      "           0       0.95      0.96      0.96     11821\n",
      "           1       0.97      0.96      0.96     14077\n",
      "\n",
      "    accuracy                           0.96     25898\n",
      "   macro avg       0.96      0.96      0.96     25898\n",
      "weighted avg       0.96      0.96      0.96     25898\n",
      "\n"
     ]
    }
   ],
   "source": [
    "import pandas as pd\n",
    "from sklearn.model_selection import train_test_split\n",
    "from sklearn.preprocessing import StandardScaler\n",
    "from category_encoders import OrdinalEncoder\n",
    "from sklearn.compose import ColumnTransformer\n",
    "from sklearn.pipeline import Pipeline\n",
    "from sklearn.ensemble import RandomForestClassifier\n",
    "from sklearn.metrics import accuracy_score, classification_report\n",
    "from shapash.explainer.smart_explainer import SmartExplainer\n",
    "\n",
    "url = \"https://raw.githubusercontent.com/remijul/dataset/master/Airline%20Passenger%20Satisfaction.csv\"\n",
    "data = pd.read_csv(url, delimiter=';')\n",
    "\n",
    "data.dropna(inplace=True)\n",
    "categorical_columns = ['Gender', 'Customer Type', 'Type of Travel', 'Class']\n",
    "data[categorical_columns] = data[categorical_columns].astype('category')\n",
    "data['Satisfaction'] = data['Satisfaction'].map({'satisfied': 1, 'neutral or dissatisfied': 0})\n",
    "\n",
    "X = data.drop('Satisfaction', axis=1)\n",
    "y = data['Satisfaction']\n",
    "X_train, X_test, y_train, y_test = train_test_split(X, y, test_size=0.2, random_state=42)\n",
    "\n",
    "numerical_columns = ['Age', 'Flight Distance', 'Seat comfort', 'Departure/Arrival time convenient', 'Food and drink', 'Gate location', 'Inflight wifi service', 'Inflight entertainment', 'Online support', 'Ease of Online booking', 'On-board service', 'Leg room service', 'Baggage handling', 'Checkin service', 'Cleanliness', 'Online boarding', 'Departure Delay in Minutes', 'Arrival Delay in Minutes']\n",
    "\n",
    "numerical_transformer = StandardScaler()\n",
    "categorical_transformer = OrdinalEncoder()\n",
    "\n",
    "preprocessor = ColumnTransformer(transformers=[\n",
    "    ('num', numerical_transformer, numerical_columns),\n",
    "    ('cat', categorical_transformer, categorical_columns)\n",
    "])\n",
    "\n",
    "pipeline = Pipeline(steps=[\n",
    "    ('preprocessor', preprocessor),\n",
    "    ('classifier', RandomForestClassifier(random_state=42))\n",
    "])\n",
    "\n",
    "pipeline.fit(X_train, y_train)\n",
    "y_pred = pipeline.predict(X_test)\n",
    "accuracy = accuracy_score(y_test, y_pred)\n",
    "print(f'Accuracy: {accuracy:.2f}')\n",
    "print(classification_report(y_test, y_pred))"
   ]
  },
  {
   "cell_type": "code",
   "execution_count": 22,
   "metadata": {},
   "outputs": [],
   "source": [
    "# Encoder les données de test avec le preprocessor\n",
    "X_test_enc = preprocessor.transform(X_test)"
   ]
  },
  {
   "cell_type": "code",
   "execution_count": 23,
   "metadata": {},
   "outputs": [],
   "source": [
    "# Instancier SmartExplainer\n",
    "xpl = SmartExplainer(\n",
    "    model=pipeline.named_steps['classifier'],\n",
    "    preprocessing=preprocessor\n",
    ")"
   ]
  },
  {
   "cell_type": "code",
   "execution_count": 32,
   "metadata": {},
   "outputs": [
    {
     "data": {
      "text/plain": [
       "array([[-0.16109613,  1.75786533,  0.832696  , ...,  2.        ,\n",
       "         1.        ,  2.        ],\n",
       "       [ 1.35969628, -0.1925373 ,  0.11428522, ...,  2.        ,\n",
       "         2.        ,  1.        ],\n",
       "       [-0.82231023, -0.15257403, -0.60412557, ...,  2.        ,\n",
       "         1.        ,  2.        ],\n",
       "       ...,\n",
       "       [-1.81413137,  0.40983593, -0.60412557, ...,  1.        ,\n",
       "         1.        ,  1.        ],\n",
       "       [ 0.30175373, -1.58052997, -1.32253635, ...,  2.        ,\n",
       "         2.        ,  1.        ],\n",
       "       [ 0.83072501, -0.59314473, -0.60412557, ...,  2.        ,\n",
       "         2.        ,  1.        ]])"
      ]
     },
     "execution_count": 32,
     "metadata": {},
     "output_type": "execute_result"
    }
   ],
   "source": [
    "X_test_enc"
   ]
  },
  {
   "cell_type": "code",
   "execution_count": 34,
   "metadata": {},
   "outputs": [],
   "source": [
    "# Compiler le SmartExplainer avec les données pertinentes\n",
    "xpl.compile(\n",
    "    x=pd.DataFrame(X_test_enc, columns=X_test.columns)\n",
    ")"
   ]
  },
  {
   "cell_type": "code",
   "execution_count": null,
   "metadata": {},
   "outputs": [
    {
     "name": "stderr",
     "output_type": "stream",
     "text": [
      "c:\\Users\\loren\\anaconda3\\lib\\site-packages\\sklearn\\base.py:443: UserWarning:\n",
      "\n",
      "X has feature names, but RandomForestClassifier was fitted without feature names\n",
      "\n",
      "c:\\Users\\loren\\anaconda3\\lib\\site-packages\\shapash\\webapp\\smart_app.py:354: FutureWarning:\n",
      "\n",
      "Using short name for 'orient' is deprecated. Only the options: ('dict', list, 'series', 'split', 'records', 'index') will be used in a future version. Use one of the above to silence this warning.\n",
      "\n",
      "INFO:root:Your Shapash application run on http://Optimus:8050/\n",
      "INFO:root:Use the method .kill() to down your app.\n"
     ]
    },
    {
     "name": "stdout",
     "output_type": "stream",
     "text": [
      "Dash is running on http://0.0.0.0:8050/\n",
      "\n"
     ]
    },
    {
     "name": "stderr",
     "output_type": "stream",
     "text": [
      "INFO:dash.dash:Dash is running on http://0.0.0.0:8050/\n",
      "\n"
     ]
    },
    {
     "name": "stdout",
     "output_type": "stream",
     "text": [
      " * Serving Flask app \"shapash.webapp.smart_app\" (lazy loading)\n"
     ]
    },
    {
     "name": "stdout",
     "output_type": "stream",
     "text": [
      " * Environment: production\n",
      "\u001b[31m   WARNING: This is a development server. Do not use it in a production deployment.\u001b[0m\n",
      "\u001b[2m   Use a production WSGI server instead.\u001b[0m\n",
      " * Debug mode: off\n"
     ]
    },
    {
     "name": "stderr",
     "output_type": "stream",
     "text": [
      "WARNING:werkzeug: * Running on all addresses.\n",
      "   WARNING: This is a development server. Do not use it in a production deployment.\n",
      "INFO:werkzeug: * Running on http://192.168.1.18:8050/ (Press CTRL+C to quit)\n",
      "INFO:werkzeug:192.168.1.18 - - [07/Apr/2023 15:10:24] \"GET / HTTP/1.1\" 200 -\n",
      "INFO:werkzeug:192.168.1.18 - - [07/Apr/2023 15:10:24] \"GET /_dash-component-suites/dash/deps/polyfill@7.v2_9_2m1680853277.12.1.min.js HTTP/1.1\" 200 -\n",
      "INFO:werkzeug:192.168.1.18 - - [07/Apr/2023 15:10:24] \"GET /assets/material-icons.css?m=1680853278.2582488 HTTP/1.1\" 200 -\n",
      "INFO:werkzeug:192.168.1.18 - - [07/Apr/2023 15:10:24] \"GET /assets/style.css?m=1680853278.262019 HTTP/1.1\" 200 -\n",
      "INFO:werkzeug:192.168.1.18 - - [07/Apr/2023 15:10:24] \"GET /_dash-component-suites/dash/deps/react@16.v2_9_2m1680853277.14.0.min.js HTTP/1.1\" 200 -\n",
      "INFO:werkzeug:192.168.1.18 - - [07/Apr/2023 15:10:24] \"GET /_dash-component-suites/dash/deps/react-dom@16.v2_9_2m1680853277.14.0.min.js HTTP/1.1\" 200 -\n",
      "INFO:werkzeug:192.168.1.18 - - [07/Apr/2023 15:10:24] \"GET /_dash-component-suites/dash/deps/prop-types@15.v2_9_2m1680853277.8.1.min.js HTTP/1.1\" 200 -\n",
      "INFO:werkzeug:192.168.1.18 - - [07/Apr/2023 15:10:24] \"GET /_dash-component-suites/dash_daq/dash_daq.v0_5_0m1680853277.min.js HTTP/1.1\" 200 -\n",
      "INFO:werkzeug:192.168.1.18 - - [07/Apr/2023 15:10:24] \"GET /_dash-component-suites/dash_bootstrap_components/_components/dash_bootstrap_components.v1_4_1m1680853277.min.js HTTP/1.1\" 200 -\n",
      "INFO:werkzeug:192.168.1.18 - - [07/Apr/2023 15:10:24] \"GET /assets/jquery.js?m=1680853278.2572498 HTTP/1.1\" 200 -\n",
      "INFO:werkzeug:192.168.1.18 - - [07/Apr/2023 15:10:24] \"GET /assets/main.js?m=1680853278.2572498 HTTP/1.1\" 200 -\n",
      "INFO:werkzeug:192.168.1.18 - - [07/Apr/2023 15:10:24] \"GET /_dash-component-suites/dash/dash-renderer/build/dash_renderer.v2_9_2m1680853277.min.js HTTP/1.1\" 200 -\n",
      "INFO:werkzeug:192.168.1.18 - - [07/Apr/2023 15:10:24] \"GET /_dash-component-suites/dash/dcc/dash_core_components.v2_9_1m1680853277.js HTTP/1.1\" 200 -\n",
      "INFO:werkzeug:192.168.1.18 - - [07/Apr/2023 15:10:24] \"GET /_dash-component-suites/dash/dcc/dash_core_components-shared.v2_9_1m1680853277.js HTTP/1.1\" 200 -\n",
      "INFO:werkzeug:192.168.1.18 - - [07/Apr/2023 15:10:24] \"GET /_dash-component-suites/dash/html/dash_html_components.v2_0_10m1680853277.min.js HTTP/1.1\" 200 -\n",
      "INFO:werkzeug:192.168.1.18 - - [07/Apr/2023 15:10:24] \"GET /_dash-component-suites/dash/dash_table/bundle.v5_2_4m1680853277.js HTTP/1.1\" 200 -\n",
      "INFO:werkzeug:192.168.1.18 - - [07/Apr/2023 15:10:24] \"GET /_dash-layout HTTP/1.1\" 200 -\n",
      "INFO:werkzeug:192.168.1.18 - - [07/Apr/2023 15:10:24] \"GET /_dash-dependencies HTTP/1.1\" 200 -\n",
      "INFO:werkzeug:192.168.1.18 - - [07/Apr/2023 15:10:24] \"GET /assets/favicon.ico?m=1680853278.25625 HTTP/1.1\" 200 -\n",
      "INFO:werkzeug:192.168.1.18 - - [07/Apr/2023 15:10:24] \"GET /_dash-component-suites/dash/dcc/async-dropdown.js HTTP/1.1\" 200 -\n",
      "INFO:werkzeug:192.168.1.18 - - [07/Apr/2023 15:10:24] \"GET /_dash-component-suites/dash/dcc/async-graph.js HTTP/1.1\" 200 -\n",
      "INFO:werkzeug:192.168.1.18 - - [07/Apr/2023 15:10:24] \"GET /_dash-component-suites/dash/dash_table/async-highlight.js HTTP/1.1\" 200 -\n",
      "INFO:werkzeug:192.168.1.18 - - [07/Apr/2023 15:10:24] \"GET /_dash-component-suites/dash/dash_table/async-table.js HTTP/1.1\" 200 -\n",
      "INFO:werkzeug:192.168.1.18 - - [07/Apr/2023 15:10:24] \"GET /_dash-component-suites/dash/dcc/async-plotlyjs.js HTTP/1.1\" 200 -\n",
      "INFO:werkzeug:192.168.1.18 - - [07/Apr/2023 15:10:24] \"GET /_dash-component-suites/dash/dcc/async-slider.js HTTP/1.1\" 200 -\n",
      "INFO:werkzeug:192.168.1.18 - - [07/Apr/2023 15:10:24] \"GET /assets/shapash-fond-fonce.png HTTP/1.1\" 200 -\n",
      "INFO:werkzeug:192.168.1.18 - - [07/Apr/2023 15:10:25] \"GET /assets/settings.png HTTP/1.1\" 200 -\n",
      "INFO:werkzeug:192.168.1.18 - - [07/Apr/2023 15:10:25] \"GET /assets/reload.png HTTP/1.1\" 200 -\n",
      "INFO:werkzeug:192.168.1.18 - - [07/Apr/2023 15:10:25] \"POST /_dash-update-component HTTP/1.1\" 200 -\n",
      "INFO:werkzeug:192.168.1.18 - - [07/Apr/2023 15:10:25] \"POST /_dash-update-component HTTP/1.1\" 200 -\n",
      "INFO:werkzeug:192.168.1.18 - - [07/Apr/2023 15:10:25] \"POST /_dash-update-component HTTP/1.1\" 200 -\n",
      "INFO:werkzeug:192.168.1.18 - - [07/Apr/2023 15:10:25] \"POST /_dash-update-component HTTP/1.1\" 200 -\n",
      "INFO:werkzeug:192.168.1.18 - - [07/Apr/2023 15:10:25] \"POST /_dash-update-component HTTP/1.1\" 200 -\n",
      "INFO:werkzeug:192.168.1.18 - - [07/Apr/2023 15:10:25] \"POST /_dash-update-component HTTP/1.1\" 200 -\n",
      "INFO:werkzeug:192.168.1.18 - - [07/Apr/2023 15:10:25] \"POST /_dash-update-component HTTP/1.1\" 200 -\n",
      "INFO:werkzeug:192.168.1.18 - - [07/Apr/2023 15:10:25] \"POST /_dash-update-component HTTP/1.1\" 200 -\n",
      "INFO:werkzeug:192.168.1.18 - - [07/Apr/2023 15:10:25] \"POST /_dash-update-component HTTP/1.1\" 200 -\n",
      "INFO:werkzeug:192.168.1.18 - - [07/Apr/2023 15:10:25] \"POST /_dash-update-component HTTP/1.1\" 200 -\n",
      "INFO:werkzeug:192.168.1.18 - - [07/Apr/2023 15:10:25] \"\u001b[35m\u001b[1mPOST /_dash-update-component HTTP/1.1\u001b[0m\" 204 -\n",
      "INFO:werkzeug:192.168.1.18 - - [07/Apr/2023 15:10:25] \"POST /_dash-update-component HTTP/1.1\" 200 -\n",
      "INFO:werkzeug:192.168.1.18 - - [07/Apr/2023 15:10:25] \"POST /_dash-update-component HTTP/1.1\" 200 -\n",
      "INFO:werkzeug:192.168.1.18 - - [07/Apr/2023 15:10:25] \"POST /_dash-update-component HTTP/1.1\" 200 -\n",
      "INFO:werkzeug:192.168.1.18 - - [07/Apr/2023 15:10:25] \"POST /_dash-update-component HTTP/1.1\" 200 -\n",
      "INFO:werkzeug:192.168.1.18 - - [07/Apr/2023 15:10:25] \"POST /_dash-update-component HTTP/1.1\" 200 -\n",
      "INFO:werkzeug:192.168.1.18 - - [07/Apr/2023 15:10:25] \"POST /_dash-update-component HTTP/1.1\" 200 -\n",
      "INFO:werkzeug:192.168.1.18 - - [07/Apr/2023 15:10:25] \"POST /_dash-update-component HTTP/1.1\" 200 -\n",
      "INFO:werkzeug:192.168.1.18 - - [07/Apr/2023 15:10:25] \"POST /_dash-update-component HTTP/1.1\" 200 -\n",
      "INFO:werkzeug:192.168.1.18 - - [07/Apr/2023 15:10:25] \"POST /_dash-update-component HTTP/1.1\" 200 -\n",
      "INFO:werkzeug:192.168.1.18 - - [07/Apr/2023 15:10:25] \"POST /_dash-update-component HTTP/1.1\" 200 -\n",
      "INFO:werkzeug:192.168.1.18 - - [07/Apr/2023 15:10:26] \"POST /_dash-update-component HTTP/1.1\" 200 -\n",
      "c:\\Users\\loren\\anaconda3\\lib\\site-packages\\shapash\\webapp\\smart_app.py:1529: FutureWarning:\n",
      "\n",
      "Using short name for 'orient' is deprecated. Only the options: ('dict', list, 'series', 'split', 'records', 'index') will be used in a future version. Use one of the above to silence this warning.\n",
      "\n",
      "INFO:werkzeug:192.168.1.18 - - [07/Apr/2023 15:10:26] \"POST /_dash-update-component HTTP/1.1\" 200 -\n",
      "INFO:werkzeug:192.168.1.18 - - [07/Apr/2023 15:10:26] \"POST /_dash-update-component HTTP/1.1\" 200 -\n",
      "INFO:werkzeug:192.168.1.18 - - [07/Apr/2023 15:10:26] \"POST /_dash-update-component HTTP/1.1\" 200 -\n",
      "INFO:werkzeug:192.168.1.18 - - [07/Apr/2023 15:10:26] \"POST /_dash-update-component HTTP/1.1\" 200 -\n",
      "INFO:werkzeug:192.168.1.18 - - [07/Apr/2023 15:10:26] \"POST /_dash-update-component HTTP/1.1\" 200 -\n",
      "INFO:werkzeug:192.168.1.18 - - [07/Apr/2023 15:10:26] \"POST /_dash-update-component HTTP/1.1\" 200 -\n",
      "INFO:werkzeug:192.168.1.18 - - [07/Apr/2023 15:10:26] \"POST /_dash-update-component HTTP/1.1\" 200 -\n",
      "c:\\Users\\loren\\anaconda3\\lib\\site-packages\\sklearn\\base.py:443: UserWarning:\n",
      "\n",
      "X has feature names, but RandomForestClassifier was fitted without feature names\n",
      "\n",
      "INFO:werkzeug:192.168.1.18 - - [07/Apr/2023 15:10:26] \"POST /_dash-update-component HTTP/1.1\" 200 -\n",
      "INFO:werkzeug:192.168.1.18 - - [07/Apr/2023 15:10:27] \"POST /_dash-update-component HTTP/1.1\" 200 -\n"
     ]
    }
   ],
   "source": [
    "app = xpl.run_app(title_story=\"Titre de l'application\")"
   ]
  }
 ],
 "metadata": {
  "kernelspec": {
   "display_name": "base",
   "language": "python",
   "name": "python3"
  },
  "language_info": {
   "codemirror_mode": {
    "name": "ipython",
    "version": 3
   },
   "file_extension": ".py",
   "mimetype": "text/x-python",
   "name": "python",
   "nbconvert_exporter": "python",
   "pygments_lexer": "ipython3",
   "version": "3.9.13"
  },
  "orig_nbformat": 4
 },
 "nbformat": 4,
 "nbformat_minor": 2
}
